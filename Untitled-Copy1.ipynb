{
 "cells": [
  {
   "cell_type": "code",
   "execution_count": 1,
   "metadata": {},
   "outputs": [
    {
     "name": "stderr",
     "output_type": "stream",
     "text": [
      "Using TensorFlow backend.\n"
     ]
    },
    {
     "data": {
      "text/plain": [
       "'2.3.1'"
      ]
     },
     "execution_count": 1,
     "metadata": {},
     "output_type": "execute_result"
    }
   ],
   "source": [
    "import extractor as ext\n",
    "from sklearn.model_selection import train_test_split\n",
    "import keras\n",
    "from sklearn.metrics import confusion_matrix\n",
    "keras.__version__"
   ]
  },
  {
   "cell_type": "code",
   "execution_count": 2,
   "metadata": {},
   "outputs": [
    {
     "name": "stdout",
     "output_type": "stream",
     "text": [
      "Hair\n",
      "Damage\n",
      "Cap\n",
      "Black\n",
      "Good\n"
     ]
    }
   ],
   "source": [
    "X,y = ext.readFiles()"
   ]
  },
  {
   "cell_type": "code",
   "execution_count": 3,
   "metadata": {},
   "outputs": [],
   "source": [
    "X_train, X_test, y_train, y_test = train_test_split(X, y, test_size = 0.05, random_state = 0)"
   ]
  },
  {
   "cell_type": "code",
   "execution_count": 4,
   "metadata": {},
   "outputs": [],
   "source": [
    "from keras import models\n",
    "from keras import layers\n",
    "from keras.models import Sequential\n",
    "from keras.layers import Dense, Conv2D, Flatten, MaxPooling2D\n",
    "network = models.Sequential()\n",
    "network.add(Conv2D(64, kernel_size=3, padding=\"same\", activation='relu', input_shape=(95, 25,3)))\n",
    "\n",
    "network.add(MaxPooling2D(pool_size=(2, 2)))\n",
    "network.add(Conv2D(32, kernel_size=3, padding=\"same\",activation='relu'))\n",
    "\n",
    "network.add(MaxPooling2D(pool_size=(2, 2)))\n",
    "network.add(Conv2D(16, kernel_size=3, padding=\"same\",activation='relu'))\n",
    "\n",
    "network.add(MaxPooling2D(pool_size=(2, 2)))\n",
    "network.add(Conv2D(8, kernel_size=3, padding=\"same\",activation='relu'))\n",
    "\n",
    "network.add(MaxPooling2D(pool_size=(2, 2)))\n",
    "network.add(Flatten())\n",
    "network.add(layers.Dense(5, activation='softmax'))"
   ]
  },
  {
   "cell_type": "code",
   "execution_count": 5,
   "metadata": {},
   "outputs": [],
   "source": [
    "network.compile(optimizer='adam', \n",
    "              loss='categorical_crossentropy',\n",
    "              metrics=['accuracy'])"
   ]
  },
  {
   "cell_type": "code",
   "execution_count": 6,
   "metadata": {},
   "outputs": [],
   "source": [
    "train_images = X_train.astype('float32') / 255\n",
    "test_images = X_test.astype('float32') / 255"
   ]
  },
  {
   "cell_type": "code",
   "execution_count": 7,
   "metadata": {},
   "outputs": [],
   "source": [
    "from keras.utils import to_categorical\n",
    "train_labels = to_categorical(y_train)\n",
    "test_labels = to_categorical(y_test)"
   ]
  },
  {
   "cell_type": "code",
   "execution_count": 8,
   "metadata": {},
   "outputs": [
    {
     "name": "stdout",
     "output_type": "stream",
     "text": [
      "Epoch 1/150\n",
      "7677/7677 [==============================] - 11s 1ms/step - loss: 1.5154 - accuracy: 0.2950\n",
      "Epoch 2/150\n",
      "7677/7677 [==============================] - 11s 1ms/step - loss: 1.1987 - accuracy: 0.4726\n",
      "Epoch 3/150\n",
      "7677/7677 [==============================] - 11s 1ms/step - loss: 1.0566 - accuracy: 0.5260\n",
      "Epoch 4/150\n",
      "7677/7677 [==============================] - 11s 1ms/step - loss: 0.9803 - accuracy: 0.5567\n",
      "Epoch 5/150\n",
      "7677/7677 [==============================] - 11s 1ms/step - loss: 0.9370 - accuracy: 0.5804\n",
      "Epoch 6/150\n",
      "7677/7677 [==============================] - 11s 1ms/step - loss: 0.9120 - accuracy: 0.5850\n",
      "Epoch 7/150\n",
      "7677/7677 [==============================] - 11s 1ms/step - loss: 0.8995 - accuracy: 0.5937\n",
      "Epoch 8/150\n",
      "7677/7677 [==============================] - 11s 1ms/step - loss: 0.8836 - accuracy: 0.5961\n",
      "Epoch 9/150\n",
      "7677/7677 [==============================] - 11s 1ms/step - loss: 0.8658 - accuracy: 0.6120\n",
      "Epoch 10/150\n",
      "7677/7677 [==============================] - 11s 1ms/step - loss: 0.8420 - accuracy: 0.6189\n",
      "Epoch 11/150\n",
      "7677/7677 [==============================] - 11s 1ms/step - loss: 0.8211 - accuracy: 0.6376\n",
      "Epoch 12/150\n",
      "7677/7677 [==============================] - 11s 1ms/step - loss: 0.8114 - accuracy: 0.6355\n",
      "Epoch 13/150\n",
      "7677/7677 [==============================] - 11s 1ms/step - loss: 0.7814 - accuracy: 0.6555\n",
      "Epoch 14/150\n",
      "7677/7677 [==============================] - 11s 1ms/step - loss: 0.7674 - accuracy: 0.6586\n",
      "Epoch 15/150\n",
      "7677/7677 [==============================] - 11s 1ms/step - loss: 0.7543 - accuracy: 0.6625\n",
      "Epoch 16/150\n",
      "7677/7677 [==============================] - 11s 1ms/step - loss: 0.7277 - accuracy: 0.6777\n",
      "Epoch 17/150\n",
      "7677/7677 [==============================] - 11s 1ms/step - loss: 0.7219 - accuracy: 0.6884\n",
      "Epoch 18/150\n",
      "7677/7677 [==============================] - 11s 1ms/step - loss: 0.7073 - accuracy: 0.6827\n",
      "Epoch 19/150\n",
      "7677/7677 [==============================] - 11s 1ms/step - loss: 0.6827 - accuracy: 0.7117\n",
      "Epoch 20/150\n",
      "7677/7677 [==============================] - 11s 1ms/step - loss: 0.6655 - accuracy: 0.7164\n",
      "Epoch 21/150\n",
      "7677/7677 [==============================] - 11s 1ms/step - loss: 0.6444 - accuracy: 0.7244\n",
      "Epoch 22/150\n",
      "7677/7677 [==============================] - 11s 1ms/step - loss: 0.6403 - accuracy: 0.7330\n",
      "Epoch 23/150\n",
      "7677/7677 [==============================] - 11s 1ms/step - loss: 0.6094 - accuracy: 0.7532\n",
      "Epoch 24/150\n",
      "7677/7677 [==============================] - 11s 1ms/step - loss: 0.5826 - accuracy: 0.7638\n",
      "Epoch 25/150\n",
      "7677/7677 [==============================] - 11s 1ms/step - loss: 0.5747 - accuracy: 0.7620\n",
      "Epoch 26/150\n",
      "7677/7677 [==============================] - 11s 1ms/step - loss: 0.5839 - accuracy: 0.7594\n",
      "Epoch 27/150\n",
      "7677/7677 [==============================] - 11s 1ms/step - loss: 0.5485 - accuracy: 0.7767\n",
      "Epoch 28/150\n",
      "7677/7677 [==============================] - 11s 1ms/step - loss: 0.5409 - accuracy: 0.7799\n",
      "Epoch 29/150\n",
      "7677/7677 [==============================] - 11s 1ms/step - loss: 0.5371 - accuracy: 0.7805\n",
      "Epoch 30/150\n",
      "7677/7677 [==============================] - 11s 1ms/step - loss: 0.5180 - accuracy: 0.7875\n",
      "Epoch 31/150\n",
      "7677/7677 [==============================] - 11s 1ms/step - loss: 0.5164 - accuracy: 0.7870\n",
      "Epoch 32/150\n",
      "7677/7677 [==============================] - 11s 1ms/step - loss: 0.5031 - accuracy: 0.7995\n",
      "Epoch 33/150\n",
      "7677/7677 [==============================] - 11s 1ms/step - loss: 0.4672 - accuracy: 0.8156\n",
      "Epoch 34/150\n",
      "7677/7677 [==============================] - 11s 1ms/step - loss: 0.4667 - accuracy: 0.8132\n",
      "Epoch 35/150\n",
      "7677/7677 [==============================] - 11s 1ms/step - loss: 0.4412 - accuracy: 0.8286\n",
      "Epoch 36/150\n",
      "7677/7677 [==============================] - 11s 1ms/step - loss: 0.4497 - accuracy: 0.8228\n",
      "Epoch 37/150\n",
      "7677/7677 [==============================] - 11s 1ms/step - loss: 0.4338 - accuracy: 0.8294\n",
      "Epoch 38/150\n",
      "7677/7677 [==============================] - 11s 1ms/step - loss: 0.4241 - accuracy: 0.8305\n",
      "Epoch 39/150\n",
      "7677/7677 [==============================] - 11s 1ms/step - loss: 0.4169 - accuracy: 0.8365\n",
      "Epoch 40/150\n",
      "7677/7677 [==============================] - 11s 1ms/step - loss: 0.4048 - accuracy: 0.8411\n",
      "Epoch 41/150\n",
      "7677/7677 [==============================] - 11s 1ms/step - loss: 0.4132 - accuracy: 0.8365\n",
      "Epoch 42/150\n",
      "7677/7677 [==============================] - 11s 1ms/step - loss: 0.4070 - accuracy: 0.8424\n",
      "Epoch 43/150\n",
      "7677/7677 [==============================] - 11s 1ms/step - loss: 0.3984 - accuracy: 0.8403\n",
      "Epoch 44/150\n",
      "7677/7677 [==============================] - 11s 1ms/step - loss: 0.3716 - accuracy: 0.8578\n",
      "Epoch 45/150\n",
      "7677/7677 [==============================] - 11s 1ms/step - loss: 0.3660 - accuracy: 0.8613\n",
      "Epoch 46/150\n",
      "7677/7677 [==============================] - 12s 2ms/step - loss: 0.3451 - accuracy: 0.8682\n",
      "Epoch 47/150\n",
      "7677/7677 [==============================] - 11s 1ms/step - loss: 0.3591 - accuracy: 0.8601\n",
      "Epoch 48/150\n",
      "7677/7677 [==============================] - 11s 1ms/step - loss: 0.3203 - accuracy: 0.8835\n",
      "Epoch 49/150\n",
      "7677/7677 [==============================] - 11s 1ms/step - loss: 0.3259 - accuracy: 0.8829\n",
      "Epoch 50/150\n",
      "7677/7677 [==============================] - 11s 1ms/step - loss: 0.3248 - accuracy: 0.8766\n",
      "Epoch 51/150\n",
      "7677/7677 [==============================] - 11s 1ms/step - loss: 0.3194 - accuracy: 0.8811\n",
      "Epoch 52/150\n",
      "7677/7677 [==============================] - 11s 1ms/step - loss: 0.3056 - accuracy: 0.8875\n",
      "Epoch 53/150\n",
      "7677/7677 [==============================] - 11s 1ms/step - loss: 0.2946 - accuracy: 0.8937\n",
      "Epoch 54/150\n",
      "7677/7677 [==============================] - 11s 1ms/step - loss: 0.2904 - accuracy: 0.8934\n",
      "Epoch 55/150\n",
      "7677/7677 [==============================] - 11s 1ms/step - loss: 0.2843 - accuracy: 0.8977\n",
      "Epoch 56/150\n",
      "7677/7677 [==============================] - 11s 1ms/step - loss: 0.2659 - accuracy: 0.9061\n",
      "Epoch 57/150\n",
      "7677/7677 [==============================] - 11s 1ms/step - loss: 0.2574 - accuracy: 0.9095\n",
      "Epoch 58/150\n",
      "7677/7677 [==============================] - 11s 1ms/step - loss: 0.2629 - accuracy: 0.9026\n",
      "Epoch 59/150\n",
      "7677/7677 [==============================] - 11s 1ms/step - loss: 0.2816 - accuracy: 0.8946\n",
      "Epoch 60/150\n",
      "7677/7677 [==============================] - 11s 1ms/step - loss: 0.2663 - accuracy: 0.9018\n",
      "Epoch 61/150\n",
      "7677/7677 [==============================] - 11s 1ms/step - loss: 0.2347 - accuracy: 0.9192\n",
      "Epoch 62/150\n",
      "7677/7677 [==============================] - 11s 1ms/step - loss: 0.2438 - accuracy: 0.9152\n",
      "Epoch 63/150\n",
      "7677/7677 [==============================] - 11s 1ms/step - loss: 0.2508 - accuracy: 0.9076\n",
      "Epoch 64/150\n",
      "7677/7677 [==============================] - 11s 1ms/step - loss: 0.2359 - accuracy: 0.9156\n",
      "Epoch 65/150\n",
      "7677/7677 [==============================] - 11s 1ms/step - loss: 0.2150 - accuracy: 0.9286\n",
      "Epoch 66/150\n",
      "7677/7677 [==============================] - 11s 1ms/step - loss: 0.2401 - accuracy: 0.9116\n",
      "Epoch 67/150\n",
      "7677/7677 [==============================] - 11s 1ms/step - loss: 0.2208 - accuracy: 0.9230\n",
      "Epoch 68/150\n",
      "7677/7677 [==============================] - 11s 1ms/step - loss: 0.2161 - accuracy: 0.9220\n",
      "Epoch 69/150\n",
      "7677/7677 [==============================] - 11s 1ms/step - loss: 0.2036 - accuracy: 0.9304\n",
      "Epoch 70/150\n",
      "7677/7677 [==============================] - 11s 1ms/step - loss: 0.2005 - accuracy: 0.9291\n",
      "Epoch 71/150\n",
      "7677/7677 [==============================] - 11s 1ms/step - loss: 0.1952 - accuracy: 0.9349\n",
      "Epoch 72/150\n",
      "7677/7677 [==============================] - 11s 1ms/step - loss: 0.1906 - accuracy: 0.9357\n",
      "Epoch 73/150\n",
      "7677/7677 [==============================] - 11s 1ms/step - loss: 0.2044 - accuracy: 0.9274\n",
      "Epoch 74/150\n",
      "7677/7677 [==============================] - 12s 2ms/step - loss: 0.1797 - accuracy: 0.9414\n",
      "Epoch 75/150\n",
      "7677/7677 [==============================] - 11s 1ms/step - loss: 0.1833 - accuracy: 0.9370\n",
      "Epoch 76/150\n",
      "7677/7677 [==============================] - 11s 1ms/step - loss: 0.1856 - accuracy: 0.9332\n",
      "Epoch 77/150\n",
      "7677/7677 [==============================] - 11s 1ms/step - loss: 0.2089 - accuracy: 0.9248\n",
      "Epoch 78/150\n",
      "7677/7677 [==============================] - 11s 1ms/step - loss: 0.1762 - accuracy: 0.9381\n",
      "Epoch 79/150\n"
     ]
    },
    {
     "name": "stdout",
     "output_type": "stream",
     "text": [
      "7677/7677 [==============================] - 11s 1ms/step - loss: 0.1716 - accuracy: 0.9428\n",
      "Epoch 80/150\n",
      "7677/7677 [==============================] - 11s 1ms/step - loss: 0.1768 - accuracy: 0.9386\n",
      "Epoch 81/150\n",
      "7677/7677 [==============================] - 11s 1ms/step - loss: 0.1644 - accuracy: 0.9445\n",
      "Epoch 82/150\n",
      "7677/7677 [==============================] - 11s 1ms/step - loss: 0.1528 - accuracy: 0.9496\n",
      "Epoch 83/150\n",
      "7677/7677 [==============================] - 11s 1ms/step - loss: 0.1509 - accuracy: 0.9501\n",
      "Epoch 84/150\n",
      "7677/7677 [==============================] - 11s 1ms/step - loss: 0.1511 - accuracy: 0.9497\n",
      "Epoch 85/150\n",
      "7677/7677 [==============================] - 11s 1ms/step - loss: 0.1699 - accuracy: 0.9377\n",
      "Epoch 86/150\n",
      "7677/7677 [==============================] - 11s 1ms/step - loss: 0.1480 - accuracy: 0.9539\n",
      "Epoch 87/150\n",
      "7677/7677 [==============================] - 11s 1ms/step - loss: 0.1601 - accuracy: 0.9424\n",
      "Epoch 88/150\n",
      "7677/7677 [==============================] - 11s 1ms/step - loss: 0.1310 - accuracy: 0.9571\n",
      "Epoch 89/150\n",
      "7677/7677 [==============================] - 11s 1ms/step - loss: 0.1233 - accuracy: 0.9635\n",
      "Epoch 90/150\n",
      "7677/7677 [==============================] - 11s 1ms/step - loss: 0.1183 - accuracy: 0.9672\n",
      "Epoch 91/150\n",
      "7677/7677 [==============================] - 11s 1ms/step - loss: 0.1333 - accuracy: 0.9562\n",
      "Epoch 92/150\n",
      "7677/7677 [==============================] - 11s 1ms/step - loss: 0.1070 - accuracy: 0.9686\n",
      "Epoch 93/150\n",
      "7677/7677 [==============================] - 11s 1ms/step - loss: 0.1184 - accuracy: 0.9637\n",
      "Epoch 94/150\n",
      "7677/7677 [==============================] - 11s 1ms/step - loss: 0.1335 - accuracy: 0.9575\n",
      "Epoch 95/150\n",
      "7677/7677 [==============================] - 11s 1ms/step - loss: 0.1053 - accuracy: 0.9694\n",
      "Epoch 96/150\n",
      "7677/7677 [==============================] - 11s 1ms/step - loss: 0.1353 - accuracy: 0.9549\n",
      "Epoch 97/150\n",
      "7677/7677 [==============================] - 11s 1ms/step - loss: 0.1007 - accuracy: 0.9702\n",
      "Epoch 98/150\n",
      "7677/7677 [==============================] - 11s 1ms/step - loss: 0.1121 - accuracy: 0.9647\n",
      "Epoch 99/150\n",
      "7677/7677 [==============================] - 11s 1ms/step - loss: 0.1265 - accuracy: 0.9560\n",
      "Epoch 100/150\n",
      "7677/7677 [==============================] - 11s 1ms/step - loss: 0.1203 - accuracy: 0.9588\n",
      "Epoch 101/150\n",
      "7677/7677 [==============================] - 12s 2ms/step - loss: 0.1043 - accuracy: 0.9693\n",
      "Epoch 102/150\n",
      "7677/7677 [==============================] - 12s 2ms/step - loss: 0.0917 - accuracy: 0.9736\n",
      "Epoch 103/150\n",
      "7677/7677 [==============================] - 11s 1ms/step - loss: 0.0878 - accuracy: 0.9734\n",
      "Epoch 104/150\n",
      "7677/7677 [==============================] - 11s 1ms/step - loss: 0.0962 - accuracy: 0.9700\n",
      "Epoch 105/150\n",
      "7677/7677 [==============================] - 11s 1ms/step - loss: 0.0917 - accuracy: 0.9720\n",
      "Epoch 106/150\n",
      "7677/7677 [==============================] - 11s 1ms/step - loss: 0.0811 - accuracy: 0.9775\n",
      "Epoch 107/150\n",
      "7677/7677 [==============================] - 11s 1ms/step - loss: 0.0888 - accuracy: 0.9747\n",
      "Epoch 108/150\n",
      "7677/7677 [==============================] - 11s 1ms/step - loss: 0.1053 - accuracy: 0.9642\n",
      "Epoch 109/150\n",
      "7677/7677 [==============================] - 11s 1ms/step - loss: 0.0859 - accuracy: 0.9737\n",
      "Epoch 110/150\n",
      "7677/7677 [==============================] - 11s 1ms/step - loss: 0.0870 - accuracy: 0.9724\n",
      "Epoch 111/150\n",
      "7677/7677 [==============================] - 11s 1ms/step - loss: 0.0811 - accuracy: 0.9750\n",
      "Epoch 112/150\n",
      "7677/7677 [==============================] - 11s 1ms/step - loss: 0.0668 - accuracy: 0.9827\n",
      "Epoch 113/150\n",
      "7677/7677 [==============================] - 11s 1ms/step - loss: 0.0834 - accuracy: 0.9739\n",
      "Epoch 114/150\n",
      "7677/7677 [==============================] - 11s 1ms/step - loss: 0.1309 - accuracy: 0.9536\n",
      "Epoch 115/150\n",
      "7677/7677 [==============================] - 11s 1ms/step - loss: 0.1206 - accuracy: 0.9573\n",
      "Epoch 116/150\n",
      "7677/7677 [==============================] - 11s 1ms/step - loss: 0.0940 - accuracy: 0.9687\n",
      "Epoch 117/150\n",
      "7677/7677 [==============================] - 11s 1ms/step - loss: 0.0644 - accuracy: 0.9842\n",
      "Epoch 118/150\n",
      "7677/7677 [==============================] - 11s 1ms/step - loss: 0.0769 - accuracy: 0.9776\n",
      "Epoch 119/150\n",
      "7677/7677 [==============================] - 11s 1ms/step - loss: 0.0638 - accuracy: 0.9820\n",
      "Epoch 120/150\n",
      "7677/7677 [==============================] - 11s 1ms/step - loss: 0.0761 - accuracy: 0.9759\n",
      "Epoch 121/150\n",
      "7677/7677 [==============================] - 11s 1ms/step - loss: 0.0666 - accuracy: 0.9819\n",
      "Epoch 122/150\n",
      "7677/7677 [==============================] - 11s 1ms/step - loss: 0.0597 - accuracy: 0.9835\n",
      "Epoch 123/150\n",
      "7677/7677 [==============================] - 11s 1ms/step - loss: 0.0649 - accuracy: 0.9807\n",
      "Epoch 124/150\n",
      "7677/7677 [==============================] - 11s 1ms/step - loss: 0.0962 - accuracy: 0.9676\n",
      "Epoch 125/150\n",
      "7677/7677 [==============================] - 11s 1ms/step - loss: 0.0653 - accuracy: 0.9802\n",
      "Epoch 126/150\n",
      "7677/7677 [==============================] - 11s 1ms/step - loss: 0.0593 - accuracy: 0.9832\n",
      "Epoch 127/150\n",
      "7677/7677 [==============================] - 12s 2ms/step - loss: 0.0568 - accuracy: 0.9841\n",
      "Epoch 128/150\n",
      "7677/7677 [==============================] - 11s 1ms/step - loss: 0.0595 - accuracy: 0.9827\n",
      "Epoch 129/150\n",
      "7677/7677 [==============================] - 11s 1ms/step - loss: 0.0448 - accuracy: 0.9900\n",
      "Epoch 130/150\n",
      "7677/7677 [==============================] - 12s 2ms/step - loss: 0.0477 - accuracy: 0.9871\n",
      "Epoch 131/150\n",
      "7677/7677 [==============================] - 12s 2ms/step - loss: 0.0433 - accuracy: 0.9902\n",
      "Epoch 132/150\n",
      "7677/7677 [==============================] - 11s 1ms/step - loss: 0.0682 - accuracy: 0.9782\n",
      "Epoch 133/150\n",
      "7677/7677 [==============================] - 11s 1ms/step - loss: 0.0570 - accuracy: 0.9822\n",
      "Epoch 134/150\n",
      "7677/7677 [==============================] - 11s 1ms/step - loss: 0.0495 - accuracy: 0.9865\n",
      "Epoch 135/150\n",
      "7677/7677 [==============================] - 11s 1ms/step - loss: 0.0494 - accuracy: 0.9836\n",
      "Epoch 136/150\n",
      "7677/7677 [==============================] - 11s 1ms/step - loss: 0.0426 - accuracy: 0.9884\n",
      "Epoch 137/150\n",
      "7677/7677 [==============================] - 11s 1ms/step - loss: 0.0744 - accuracy: 0.9730\n",
      "Epoch 138/150\n",
      "7677/7677 [==============================] - 11s 1ms/step - loss: 0.0457 - accuracy: 0.9867\n",
      "Epoch 139/150\n",
      "7677/7677 [==============================] - 11s 1ms/step - loss: 0.1025 - accuracy: 0.9622\n",
      "Epoch 140/150\n",
      "7677/7677 [==============================] - 11s 1ms/step - loss: 0.0602 - accuracy: 0.9822\n",
      "Epoch 141/150\n",
      "7677/7677 [==============================] - 11s 1ms/step - loss: 0.0918 - accuracy: 0.9682\n",
      "Epoch 142/150\n",
      "7677/7677 [==============================] - 11s 1ms/step - loss: 0.0321 - accuracy: 0.9941\n",
      "Epoch 143/150\n",
      "7677/7677 [==============================] - 11s 1ms/step - loss: 0.0306 - accuracy: 0.9932\n",
      "Epoch 144/150\n",
      "7677/7677 [==============================] - 11s 1ms/step - loss: 0.0265 - accuracy: 0.9953\n",
      "Epoch 145/150\n",
      "7677/7677 [==============================] - 11s 1ms/step - loss: 0.0546 - accuracy: 0.9825\n",
      "Epoch 146/150\n",
      "7677/7677 [==============================] - 11s 1ms/step - loss: 0.0855 - accuracy: 0.9682\n",
      "Epoch 147/150\n",
      "7677/7677 [==============================] - 11s 1ms/step - loss: 0.0465 - accuracy: 0.9866\n",
      "Epoch 148/150\n",
      "7677/7677 [==============================] - 11s 1ms/step - loss: 0.0250 - accuracy: 0.9952\n",
      "Epoch 149/150\n",
      "7677/7677 [==============================] - 11s 1ms/step - loss: 0.0315 - accuracy: 0.9922\n",
      "Epoch 150/150\n",
      "7677/7677 [==============================] - 11s 1ms/step - loss: 0.0322 - accuracy: 0.9937\n"
     ]
    },
    {
     "data": {
      "text/plain": [
       "<keras.callbacks.callbacks.History at 0x7fde3b3ff6a0>"
      ]
     },
     "execution_count": 8,
     "metadata": {},
     "output_type": "execute_result"
    }
   ],
   "source": [
    "network.fit(train_images, train_labels, epochs=150, batch_size=128)"
   ]
  },
  {
   "cell_type": "code",
   "execution_count": 9,
   "metadata": {},
   "outputs": [
    {
     "name": "stdout",
     "output_type": "stream",
     "text": [
      "405/405 [==============================] - 0s 399us/step\n"
     ]
    }
   ],
   "source": [
    "test_loss, test_acc = network.evaluate(test_images, test_labels)"
   ]
  },
  {
   "cell_type": "code",
   "execution_count": 10,
   "metadata": {},
   "outputs": [
    {
     "name": "stdout",
     "output_type": "stream",
     "text": [
      "test_acc: 94.57\n"
     ]
    }
   ],
   "source": [
    "print('test_acc:', round(test_acc,4)*100)"
   ]
  },
  {
   "cell_type": "code",
   "execution_count": 12,
   "metadata": {},
   "outputs": [
    {
     "data": {
      "text/plain": [
       "array([[ 37,   0,   1,   2,   1],\n",
       "       [  0,  36,   0,   0,   0],\n",
       "       [  0,   0,  92,   0,   0],\n",
       "       [  1,   0,   4, 121,  12],\n",
       "       [  0,   1,   0,   0,  97]])"
      ]
     },
     "execution_count": 12,
     "metadata": {},
     "output_type": "execute_result"
    }
   ],
   "source": [
    "import numpy as np\n",
    "\n",
    "ynew = network.predict_classes(test_images)\n",
    "test = list()\n",
    "for code in test_labels:\n",
    "    for pos in range(0 , 5):\n",
    "        value = code[pos]\n",
    "        if value == 1.0:\n",
    "            test.append(pos) \n",
    "\n",
    "\n",
    "npa = np.asarray(test)\n",
    "confusion_matrix(npa, ynew)"
   ]
  },
  {
   "cell_type": "code",
   "execution_count": null,
   "metadata": {},
   "outputs": [],
   "source": []
  }
 ],
 "metadata": {
  "kernelspec": {
   "display_name": "Python 3",
   "language": "python",
   "name": "python3"
  },
  "language_info": {
   "codemirror_mode": {
    "name": "ipython",
    "version": 3
   },
   "file_extension": ".py",
   "mimetype": "text/x-python",
   "name": "python",
   "nbconvert_exporter": "python",
   "pygments_lexer": "ipython3",
   "version": "3.6.10"
  }
 },
 "nbformat": 4,
 "nbformat_minor": 4
}
